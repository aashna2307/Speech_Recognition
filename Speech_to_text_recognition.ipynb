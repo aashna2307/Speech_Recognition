{
 "cells": [
  {
   "cell_type": "code",
   "execution_count": 1,
   "metadata": {},
   "outputs": [],
   "source": [
    "import speech_recognition as reg\n",
    "R = reg.Recognizer()"
   ]
  },
  {
   "cell_type": "code",
   "execution_count": null,
   "metadata": {},
   "outputs": [
    {
     "name": "stdout",
     "output_type": "stream",
     "text": [
      "Tell about yourself: \n"
     ]
    }
   ],
   "source": [
    "with reg.Microphone() as source:\n",
    "    print(\"Tell about yourself: \");\n",
    "    Audio = R.listen(source)\n",
    "    print(\"Speech Received\")\n",
    "try:\n",
    "    #print(\"Your words: \" +R.recognize_google(Audio));\n",
    "    print(\"Your words: \" + R.recognize_google(Audio, language = 'hi-IN'));\n",
    "        \n",
    "    \n",
    "except:\n",
    "    #pass;\n",
    "    print(\"How may I help you\")\n",
    "\n",
    "    "
   ]
  },
  {
   "cell_type": "code",
   "execution_count": null,
   "metadata": {},
   "outputs": [],
   "source": [
    "        "
   ]
  },
  {
   "cell_type": "code",
   "execution_count": null,
   "metadata": {},
   "outputs": [],
   "source": []
  }
 ],
 "metadata": {
  "kernelspec": {
   "display_name": "Python 3",
   "language": "python",
   "name": "python3"
  },
  "language_info": {
   "codemirror_mode": {
    "name": "ipython",
    "version": 3
   },
   "file_extension": ".py",
   "mimetype": "text/x-python",
   "name": "python",
   "nbconvert_exporter": "python",
   "pygments_lexer": "ipython3",
   "version": "3.7.8"
  }
 },
 "nbformat": 4,
 "nbformat_minor": 2
}
